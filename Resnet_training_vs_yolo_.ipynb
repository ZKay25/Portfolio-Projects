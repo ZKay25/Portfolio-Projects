{
  "nbformat": 4,
  "nbformat_minor": 0,
  "metadata": {
    "colab": {
      "provenance": [],
      "gpuType": "T4",
      "mount_file_id": "1CRuwSNJFvXqsSML8boMuWaNr-5GauiIb",
      "authorship_tag": "ABX9TyPpcgl88p5BQ0rjuxS38008"
    },
    "kernelspec": {
      "name": "python3",
      "display_name": "Python 3"
    },
    "language_info": {
      "name": "python"
    },
    "accelerator": "GPU"
  },
  "cells": [
    {
      "cell_type": "code",
      "source": [
        "import tensorflow as tf\n",
        "from tensorflow.keras.applications import ResNet50\n",
        "\n",
        "DIR = \"/content/drive/My Drive/garbage_classification2\"\n",
        "\n",
        "# Load the entire dataset without splitting into training and validation sets\n",
        "dataset = tf.keras.preprocessing.image_dataset_from_directory(\n",
        "    DIR,\n",
        "    batch_size=32,\n",
        "    image_size=(224, 224)\n",
        ")\n",
        "\n",
        "# Extract class names and number of classes\n",
        "classes = dataset.class_names\n",
        "numClasses = len(classes)\n",
        "print(classes, numClasses)\n",
        "\n",
        "# Load ResNet50 model with pre-trained weights\n",
        "image_size = (224, 224)\n",
        "resnet50_model = ResNet50(input_shape=image_size + (3,), weights='imagenet', include_top=False)\n",
        "\n",
        "# Freeze layers\n",
        "for layer in resnet50_model.layers:\n",
        "    layer.trainable = False\n",
        "\n",
        "# Build ResNet50-based model for classification\n",
        "inputs = tf.keras.Input(shape=image_size + (3,))\n",
        "x = tf.keras.applications.resnet50.preprocess_input(inputs)  # Minimal preprocessing\n",
        "x = resnet50_model(x, training=False)\n",
        "x = tf.keras.layers.GlobalAveragePooling2D()(x)\n",
        "x = tf.keras.layers.Dense(1024, activation='relu')(x)\n",
        "x = tf.keras.layers.Dropout(0.5)(x)\n",
        "outputs = tf.keras.layers.Dense(numClasses, activation='softmax')(x)\n",
        "\n",
        "model = tf.keras.Model(inputs, outputs)\n",
        "\n",
        "# Compile the model\n",
        "optimizer = tf.keras.optimizers.Adam(learning_rate=0.0001)\n",
        "loss = tf.keras.losses.SparseCategoricalCrossentropy()\n",
        "model.compile(optimizer=optimizer, loss=loss, metrics=['accuracy'])\n",
        "\n",
        "# Train the model\n",
        "history = model.fit(dataset, epochs=10)\n",
        "\n",
        "# Save the trained ResNet50 model\n",
        "model.save(\"/content/drive/My Drive/garbage_classification2/resnet50_model.h5\")\n"
      ],
      "metadata": {
        "colab": {
          "base_uri": "https://localhost:8080/"
        },
        "id": "dopL_1MK-xAr",
        "outputId": "0fc25c80-ee01-4ea2-cf5b-cab019ad53e5"
      },
      "execution_count": null,
      "outputs": [
        {
          "output_type": "stream",
          "name": "stdout",
          "text": [
            "Found 15523 files belonging to 2 classes.\n",
            "['train', 'val'] 2\n",
            "Downloading data from https://storage.googleapis.com/tensorflow/keras-applications/resnet/resnet50_weights_tf_dim_ordering_tf_kernels_notop.h5\n",
            "94765736/94765736 [==============================] - 0s 0us/step\n",
            "Epoch 1/10\n",
            "486/486 [==============================] - 2032s 4s/step - loss: 0.6144 - accuracy: 0.7594\n",
            "Epoch 2/10\n",
            "486/486 [==============================] - 59s 120ms/step - loss: 0.5080 - accuracy: 0.7940\n",
            "Epoch 3/10\n",
            "486/486 [==============================] - 61s 124ms/step - loss: 0.4815 - accuracy: 0.8011\n",
            "Epoch 4/10\n",
            "486/486 [==============================] - 64s 130ms/step - loss: 0.4581 - accuracy: 0.8052\n",
            "Epoch 5/10\n",
            "486/486 [==============================] - 65s 131ms/step - loss: 0.4308 - accuracy: 0.8142\n",
            "Epoch 6/10\n",
            "486/486 [==============================] - 64s 129ms/step - loss: 0.4099 - accuracy: 0.8184\n",
            "Epoch 7/10\n",
            "486/486 [==============================] - 64s 130ms/step - loss: 0.3840 - accuracy: 0.8328\n",
            "Epoch 8/10\n",
            "486/486 [==============================] - 57s 116ms/step - loss: 0.3586 - accuracy: 0.8466\n",
            "Epoch 9/10\n",
            "486/486 [==============================] - 58s 117ms/step - loss: 0.3283 - accuracy: 0.8598\n",
            "Epoch 10/10\n",
            "486/486 [==============================] - 62s 127ms/step - loss: 0.3026 - accuracy: 0.8736\n"
          ]
        },
        {
          "output_type": "stream",
          "name": "stderr",
          "text": [
            "/usr/local/lib/python3.10/dist-packages/keras/src/engine/training.py:3103: UserWarning: You are saving your model as an HDF5 file via `model.save()`. This file format is considered legacy. We recommend using instead the native Keras format, e.g. `model.save('my_model.keras')`.\n",
            "  saving_api.save_model(\n"
          ]
        }
      ]
    },
    {
      "cell_type": "code",
      "source": [
        "import tensorflow as tf\n",
        "import numpy as np\n",
        "import matplotlib.pyplot as plt\n",
        "import time\n",
        "\n",
        "# Define paths\n",
        "model_path = \"/content/drive/My Drive/garbage_classification2/resnet50_model.h5\"\n",
        "base_image_path = \"/content/drive/My Drive/garbage_classification2/train/white-glass/white-glass\"\n",
        "\n",
        "# Load the custom trained ResNet50 model\n",
        "model = tf.keras.models.load_model(model_path)\n",
        "\n",
        "# Function to load and preprocess an image\n",
        "def load_and_preprocess_image(image_path):\n",
        "    img = tf.keras.preprocessing.image.load_img(image_path, target_size=(224, 224))\n",
        "    img_array = tf.keras.preprocessing.image.img_to_array(img)\n",
        "    img_array = np.expand_dims(img_array, axis=0)  # Add batch dimension\n",
        "    img_preprocessed = tf.keras.applications.resnet50.preprocess_input(img_array)\n",
        "    return img_preprocessed\n",
        "\n",
        "# Function to process an image with the model and measure processing time\n",
        "def process_image_and_time(image_preprocessed, model):\n",
        "    start_time = time.time()\n",
        "    prediction = model.predict(image_preprocessed)\n",
        "    end_time = time.time()\n",
        "    processing_time = end_time - start_time\n",
        "    return processing_time\n",
        "\n",
        "# Process 5 images sequentially from white-glass360.jpg to white-glass365.jpg\n",
        "for i in range(360, 366):  # Iterate from 360 to 365 (inclusive)\n",
        "    image_path = f\"{base_image_path}{i}.jpg\"  # Construct full image path\n",
        "    img_preprocessed = load_and_preprocess_image(image_path)  # Load and preprocess image\n",
        "    time_taken = process_image_and_time(img_preprocessed, model)  # Process image and measure time\n",
        "    print(f\"Processing Time for {image_path}: {time_taken:.4f} seconds\")\n"
      ],
      "metadata": {
        "colab": {
          "base_uri": "https://localhost:8080/"
        },
        "id": "qxh4uO2wiE5_",
        "outputId": "3d23cf5a-c9ec-4cdd-f139-912bd6da260f"
      },
      "execution_count": null,
      "outputs": [
        {
          "output_type": "stream",
          "name": "stdout",
          "text": [
            "1/1 [==============================] - 1s 1s/step\n",
            "Processing Time for /content/drive/My Drive/garbage_classification2/train/white-glass/white-glass360.jpg: 1.4769 seconds\n",
            "1/1 [==============================] - 0s 203ms/step\n",
            "Processing Time for /content/drive/My Drive/garbage_classification2/train/white-glass/white-glass361.jpg: 0.3740 seconds\n",
            "1/1 [==============================] - 0s 348ms/step\n",
            "Processing Time for /content/drive/My Drive/garbage_classification2/train/white-glass/white-glass362.jpg: 0.4394 seconds\n",
            "1/1 [==============================] - 0s 332ms/step\n",
            "Processing Time for /content/drive/My Drive/garbage_classification2/train/white-glass/white-glass363.jpg: 0.7413 seconds\n",
            "1/1 [==============================] - 0s 203ms/step\n",
            "Processing Time for /content/drive/My Drive/garbage_classification2/train/white-glass/white-glass364.jpg: 0.3746 seconds\n",
            "1/1 [==============================] - 0s 203ms/step\n",
            "Processing Time for /content/drive/My Drive/garbage_classification2/train/white-glass/white-glass365.jpg: 0.2616 seconds\n"
          ]
        }
      ]
    }
  ]
}